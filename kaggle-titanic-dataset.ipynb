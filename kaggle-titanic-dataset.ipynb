{
    "metadata": {
        "kernelspec": {
            "language": "python", 
            "display_name": "Python 2 with Spark 1.6", 
            "name": "python2"
        }, 
        "language_info": {
            "version": "2.7.11", 
            "pygments_lexer": "ipython2", 
            "mimetype": "text/x-python", 
            "nbconvert_exporter": "python", 
            "file_extension": ".py", 
            "codemirror_mode": {
                "version": 2, 
                "name": "ipython"
            }, 
            "name": "python"
        }
    }, 
    "cells": [
        {
            "execution_count": 464, 
            "cell_type": "code", 
            "outputs": [
                {
                    "output_type": "stream", 
                    "name": "stdout", 
                    "text": "Requirement already satisfied: seaborn in /gpfs/global_fs01/sym_shared/YPProdSpark/user/sbe0-13cf00d23c6a32-6c5d65acb6d6/.local/lib/python2.7/site-packages\r\n"
                }
            ], 
            "metadata": {
                "collapsed": false
            }, 
            "source": "!pip install seaborn"
        }, 
        {
            "execution_count": 465, 
            "cell_type": "code", 
            "outputs": [
                {
                    "execution_count": 465, 
                    "data": {
                        "text/html": "<div>\n<table border=\"1\" class=\"dataframe\">\n  <thead>\n    <tr style=\"text-align: right;\">\n      <th></th>\n      <th>PassengerId</th>\n      <th>Survived</th>\n      <th>Pclass</th>\n      <th>Name</th>\n      <th>Sex</th>\n      <th>Age</th>\n      <th>SibSp</th>\n      <th>Parch</th>\n      <th>Ticket</th>\n      <th>Fare</th>\n      <th>Cabin</th>\n      <th>Embarked</th>\n    </tr>\n  </thead>\n  <tbody>\n    <tr>\n      <th>0</th>\n      <td>1</td>\n      <td>0</td>\n      <td>3</td>\n      <td>Braund, Mr. Owen Harris</td>\n      <td>male</td>\n      <td>22</td>\n      <td>1</td>\n      <td>0</td>\n      <td>A/5 21171</td>\n      <td>7.2500</td>\n      <td>NaN</td>\n      <td>S</td>\n    </tr>\n    <tr>\n      <th>1</th>\n      <td>2</td>\n      <td>1</td>\n      <td>1</td>\n      <td>Cumings, Mrs. John Bradley (Florence Briggs Th...</td>\n      <td>female</td>\n      <td>38</td>\n      <td>1</td>\n      <td>0</td>\n      <td>PC 17599</td>\n      <td>71.2833</td>\n      <td>C85</td>\n      <td>C</td>\n    </tr>\n    <tr>\n      <th>2</th>\n      <td>3</td>\n      <td>1</td>\n      <td>3</td>\n      <td>Heikkinen, Miss. Laina</td>\n      <td>female</td>\n      <td>26</td>\n      <td>0</td>\n      <td>0</td>\n      <td>STON/O2. 3101282</td>\n      <td>7.9250</td>\n      <td>NaN</td>\n      <td>S</td>\n    </tr>\n    <tr>\n      <th>3</th>\n      <td>4</td>\n      <td>1</td>\n      <td>1</td>\n      <td>Futrelle, Mrs. Jacques Heath (Lily May Peel)</td>\n      <td>female</td>\n      <td>35</td>\n      <td>1</td>\n      <td>0</td>\n      <td>113803</td>\n      <td>53.1000</td>\n      <td>C123</td>\n      <td>S</td>\n    </tr>\n    <tr>\n      <th>4</th>\n      <td>5</td>\n      <td>0</td>\n      <td>3</td>\n      <td>Allen, Mr. William Henry</td>\n      <td>male</td>\n      <td>35</td>\n      <td>0</td>\n      <td>0</td>\n      <td>373450</td>\n      <td>8.0500</td>\n      <td>NaN</td>\n      <td>S</td>\n    </tr>\n    <tr>\n      <th>5</th>\n      <td>6</td>\n      <td>0</td>\n      <td>3</td>\n      <td>Moran, Mr. James</td>\n      <td>male</td>\n      <td>NaN</td>\n      <td>0</td>\n      <td>0</td>\n      <td>330877</td>\n      <td>8.4583</td>\n      <td>NaN</td>\n      <td>Q</td>\n    </tr>\n    <tr>\n      <th>6</th>\n      <td>7</td>\n      <td>0</td>\n      <td>1</td>\n      <td>McCarthy, Mr. Timothy J</td>\n      <td>male</td>\n      <td>54</td>\n      <td>0</td>\n      <td>0</td>\n      <td>17463</td>\n      <td>51.8625</td>\n      <td>E46</td>\n      <td>S</td>\n    </tr>\n    <tr>\n      <th>7</th>\n      <td>8</td>\n      <td>0</td>\n      <td>3</td>\n      <td>Palsson, Master. Gosta Leonard</td>\n      <td>male</td>\n      <td>2</td>\n      <td>3</td>\n      <td>1</td>\n      <td>349909</td>\n      <td>21.0750</td>\n      <td>NaN</td>\n      <td>S</td>\n    </tr>\n    <tr>\n      <th>8</th>\n      <td>9</td>\n      <td>1</td>\n      <td>3</td>\n      <td>Johnson, Mrs. Oscar W (Elisabeth Vilhelmina Berg)</td>\n      <td>female</td>\n      <td>27</td>\n      <td>0</td>\n      <td>2</td>\n      <td>347742</td>\n      <td>11.1333</td>\n      <td>NaN</td>\n      <td>S</td>\n    </tr>\n    <tr>\n      <th>9</th>\n      <td>10</td>\n      <td>1</td>\n      <td>2</td>\n      <td>Nasser, Mrs. Nicholas (Adele Achem)</td>\n      <td>female</td>\n      <td>14</td>\n      <td>1</td>\n      <td>0</td>\n      <td>237736</td>\n      <td>30.0708</td>\n      <td>NaN</td>\n      <td>C</td>\n    </tr>\n    <tr>\n      <th>10</th>\n      <td>11</td>\n      <td>1</td>\n      <td>3</td>\n      <td>Sandstrom, Miss. Marguerite Rut</td>\n      <td>female</td>\n      <td>4</td>\n      <td>1</td>\n      <td>1</td>\n      <td>PP 9549</td>\n      <td>16.7000</td>\n      <td>G6</td>\n      <td>S</td>\n    </tr>\n    <tr>\n      <th>11</th>\n      <td>12</td>\n      <td>1</td>\n      <td>1</td>\n      <td>Bonnell, Miss. Elizabeth</td>\n      <td>female</td>\n      <td>58</td>\n      <td>0</td>\n      <td>0</td>\n      <td>113783</td>\n      <td>26.5500</td>\n      <td>C103</td>\n      <td>S</td>\n    </tr>\n    <tr>\n      <th>12</th>\n      <td>13</td>\n      <td>0</td>\n      <td>3</td>\n      <td>Saundercock, Mr. William Henry</td>\n      <td>male</td>\n      <td>20</td>\n      <td>0</td>\n      <td>0</td>\n      <td>A/5. 2151</td>\n      <td>8.0500</td>\n      <td>NaN</td>\n      <td>S</td>\n    </tr>\n    <tr>\n      <th>13</th>\n      <td>14</td>\n      <td>0</td>\n      <td>3</td>\n      <td>Andersson, Mr. Anders Johan</td>\n      <td>male</td>\n      <td>39</td>\n      <td>1</td>\n      <td>5</td>\n      <td>347082</td>\n      <td>31.2750</td>\n      <td>NaN</td>\n      <td>S</td>\n    </tr>\n    <tr>\n      <th>14</th>\n      <td>15</td>\n      <td>0</td>\n      <td>3</td>\n      <td>Vestrom, Miss. Hulda Amanda Adolfina</td>\n      <td>female</td>\n      <td>14</td>\n      <td>0</td>\n      <td>0</td>\n      <td>350406</td>\n      <td>7.8542</td>\n      <td>NaN</td>\n      <td>S</td>\n    </tr>\n  </tbody>\n</table>\n</div>", 
                        "text/plain": "    PassengerId  Survived  Pclass  \\\n0             1         0       3   \n1             2         1       1   \n2             3         1       3   \n3             4         1       1   \n4             5         0       3   \n5             6         0       3   \n6             7         0       1   \n7             8         0       3   \n8             9         1       3   \n9            10         1       2   \n10           11         1       3   \n11           12         1       1   \n12           13         0       3   \n13           14         0       3   \n14           15         0       3   \n\n                                                 Name     Sex  Age  SibSp  \\\n0                             Braund, Mr. Owen Harris    male   22      1   \n1   Cumings, Mrs. John Bradley (Florence Briggs Th...  female   38      1   \n2                              Heikkinen, Miss. Laina  female   26      0   \n3        Futrelle, Mrs. Jacques Heath (Lily May Peel)  female   35      1   \n4                            Allen, Mr. William Henry    male   35      0   \n5                                    Moran, Mr. James    male  NaN      0   \n6                             McCarthy, Mr. Timothy J    male   54      0   \n7                      Palsson, Master. Gosta Leonard    male    2      3   \n8   Johnson, Mrs. Oscar W (Elisabeth Vilhelmina Berg)  female   27      0   \n9                 Nasser, Mrs. Nicholas (Adele Achem)  female   14      1   \n10                    Sandstrom, Miss. Marguerite Rut  female    4      1   \n11                           Bonnell, Miss. Elizabeth  female   58      0   \n12                     Saundercock, Mr. William Henry    male   20      0   \n13                        Andersson, Mr. Anders Johan    male   39      1   \n14               Vestrom, Miss. Hulda Amanda Adolfina  female   14      0   \n\n    Parch            Ticket     Fare Cabin Embarked  \n0       0         A/5 21171   7.2500   NaN        S  \n1       0          PC 17599  71.2833   C85        C  \n2       0  STON/O2. 3101282   7.9250   NaN        S  \n3       0            113803  53.1000  C123        S  \n4       0            373450   8.0500   NaN        S  \n5       0            330877   8.4583   NaN        Q  \n6       0             17463  51.8625   E46        S  \n7       1            349909  21.0750   NaN        S  \n8       2            347742  11.1333   NaN        S  \n9       0            237736  30.0708   NaN        C  \n10      1           PP 9549  16.7000    G6        S  \n11      0            113783  26.5500  C103        S  \n12      0         A/5. 2151   8.0500   NaN        S  \n13      5            347082  31.2750   NaN        S  \n14      0            350406   7.8542   NaN        S  "
                    }, 
                    "metadata": {}, 
                    "output_type": "execute_result"
                }
            ], 
            "metadata": {
                "collapsed": false
            }, 
            "source": "# The code was removed by DSX for sharing."
        }, 
        {
            "execution_count": 466, 
            "cell_type": "code", 
            "outputs": [
                {
                    "execution_count": 466, 
                    "data": {
                        "text/html": "<div>\n<table border=\"1\" class=\"dataframe\">\n  <thead>\n    <tr style=\"text-align: right;\">\n      <th></th>\n      <th>PassengerId</th>\n      <th>Pclass</th>\n      <th>Name</th>\n      <th>Sex</th>\n      <th>Age</th>\n      <th>SibSp</th>\n      <th>Parch</th>\n      <th>Ticket</th>\n      <th>Fare</th>\n      <th>Cabin</th>\n      <th>Embarked</th>\n    </tr>\n  </thead>\n  <tbody>\n    <tr>\n      <th>0</th>\n      <td>892</td>\n      <td>3</td>\n      <td>Kelly, Mr. James</td>\n      <td>male</td>\n      <td>34.5</td>\n      <td>0</td>\n      <td>0</td>\n      <td>330911</td>\n      <td>7.8292</td>\n      <td>NaN</td>\n      <td>Q</td>\n    </tr>\n    <tr>\n      <th>1</th>\n      <td>893</td>\n      <td>3</td>\n      <td>Wilkes, Mrs. James (Ellen Needs)</td>\n      <td>female</td>\n      <td>47.0</td>\n      <td>1</td>\n      <td>0</td>\n      <td>363272</td>\n      <td>7.0000</td>\n      <td>NaN</td>\n      <td>S</td>\n    </tr>\n    <tr>\n      <th>2</th>\n      <td>894</td>\n      <td>2</td>\n      <td>Myles, Mr. Thomas Francis</td>\n      <td>male</td>\n      <td>62.0</td>\n      <td>0</td>\n      <td>0</td>\n      <td>240276</td>\n      <td>9.6875</td>\n      <td>NaN</td>\n      <td>Q</td>\n    </tr>\n    <tr>\n      <th>3</th>\n      <td>895</td>\n      <td>3</td>\n      <td>Wirz, Mr. Albert</td>\n      <td>male</td>\n      <td>27.0</td>\n      <td>0</td>\n      <td>0</td>\n      <td>315154</td>\n      <td>8.6625</td>\n      <td>NaN</td>\n      <td>S</td>\n    </tr>\n    <tr>\n      <th>4</th>\n      <td>896</td>\n      <td>3</td>\n      <td>Hirvonen, Mrs. Alexander (Helga E Lindqvist)</td>\n      <td>female</td>\n      <td>22.0</td>\n      <td>1</td>\n      <td>1</td>\n      <td>3101298</td>\n      <td>12.2875</td>\n      <td>NaN</td>\n      <td>S</td>\n    </tr>\n  </tbody>\n</table>\n</div>", 
                        "text/plain": "   PassengerId  Pclass                                          Name     Sex  \\\n0          892       3                              Kelly, Mr. James    male   \n1          893       3              Wilkes, Mrs. James (Ellen Needs)  female   \n2          894       2                     Myles, Mr. Thomas Francis    male   \n3          895       3                              Wirz, Mr. Albert    male   \n4          896       3  Hirvonen, Mrs. Alexander (Helga E Lindqvist)  female   \n\n    Age  SibSp  Parch   Ticket     Fare Cabin Embarked  \n0  34.5      0      0   330911   7.8292   NaN        Q  \n1  47.0      1      0   363272   7.0000   NaN        S  \n2  62.0      0      0   240276   9.6875   NaN        Q  \n3  27.0      0      0   315154   8.6625   NaN        S  \n4  22.0      1      1  3101298  12.2875   NaN        S  "
                    }, 
                    "metadata": {}, 
                    "output_type": "execute_result"
                }
            ], 
            "metadata": {
                "collapsed": false
            }, 
            "source": "tf = pd.read_csv(get_object_storage_file_with_credentials_6378fccf462542e6887ba38584110363('KaggleTitanicDataSet', 'test.csv'))\ntf.head()"
        }, 
        {
            "execution_count": 467, 
            "cell_type": "code", 
            "outputs": [
                {
                    "execution_count": 467, 
                    "data": {
                        "text/html": "<div>\n<table border=\"1\" class=\"dataframe\">\n  <thead>\n    <tr style=\"text-align: right;\">\n      <th></th>\n      <th>Name</th>\n      <th>Sex</th>\n      <th>Ticket</th>\n      <th>Cabin</th>\n      <th>Embarked</th>\n    </tr>\n  </thead>\n  <tbody>\n    <tr>\n      <th>count</th>\n      <td>891</td>\n      <td>891</td>\n      <td>891</td>\n      <td>204</td>\n      <td>889</td>\n    </tr>\n    <tr>\n      <th>unique</th>\n      <td>891</td>\n      <td>2</td>\n      <td>681</td>\n      <td>147</td>\n      <td>3</td>\n    </tr>\n    <tr>\n      <th>top</th>\n      <td>Graham, Mr. George Edward</td>\n      <td>male</td>\n      <td>CA. 2343</td>\n      <td>C23 C25 C27</td>\n      <td>S</td>\n    </tr>\n    <tr>\n      <th>freq</th>\n      <td>1</td>\n      <td>577</td>\n      <td>7</td>\n      <td>4</td>\n      <td>644</td>\n    </tr>\n  </tbody>\n</table>\n</div>", 
                        "text/plain": "                             Name   Sex    Ticket        Cabin Embarked\ncount                         891   891       891          204      889\nunique                        891     2       681          147        3\ntop     Graham, Mr. George Edward  male  CA. 2343  C23 C25 C27        S\nfreq                            1   577         7            4      644"
                    }, 
                    "metadata": {}, 
                    "output_type": "execute_result"
                }
            ], 
            "metadata": {
                "collapsed": false
            }, 
            "source": "df = df.drop(['PassengerId'], axis=1)\ndf.describe(include=['O'])"
        }, 
        {
            "execution_count": 468, 
            "cell_type": "code", 
            "outputs": [
                {
                    "output_type": "stream", 
                    "name": "stdout", 
                    "text": "S    644\nC    168\nQ     77\nName: Embarked, dtype: int64\n4\n"
                }
            ], 
            "metadata": {
                "collapsed": false
            }, 
            "source": "print(df.Embarked.value_counts())\nprint(df.Embarked.unique().size)"
        }, 
        {
            "execution_count": 469, 
            "cell_type": "code", 
            "outputs": [
                {
                    "execution_count": 469, 
                    "data": {
                        "text/plain": "PassengerId      0\nPclass           0\nName             0\nSex              0\nAge             86\nSibSp            0\nParch            0\nTicket           0\nFare             1\nCabin          327\nEmbarked         0\ndtype: int64"
                    }, 
                    "metadata": {}, 
                    "output_type": "execute_result"
                }
            ], 
            "metadata": {
                "collapsed": false
            }, 
            "source": "tf.isnull().sum()"
        }, 
        {
            "execution_count": 470, 
            "cell_type": "code", 
            "outputs": [], 
            "metadata": {
                "collapsed": false
            }, 
            "source": "df.Embarked = df.Embarked.fillna('S')\nage_mean = df.Age.mean()\ndf.Age = df.Age.fillna(age_mean)\n\nage_mean = tf.Age.mean()\ntf.Age = tf.Age.fillna(age_mean)\n\ntf.Fare = tf.Fare.fillna(tf.Fare.mean())"
        }, 
        {
            "execution_count": 471, 
            "cell_type": "code", 
            "outputs": [
                {
                    "execution_count": 471, 
                    "data": {
                        "text/plain": "<seaborn.axisgrid.FacetGrid at 0x7fcb4608f250>"
                    }, 
                    "metadata": {}, 
                    "output_type": "execute_result"
                }, 
                {
                    "metadata": {}, 
                    "data": {
                        "text/plain": "<matplotlib.figure.Figure at 0x7fcb45a13c10>", 
                        "image/png": "[encoded data removed]"
                    }, 
                    "output_type": "display_data"
                }
            ], 
            "metadata": {
                "collapsed": false
            }, 
            "source": "g = sns.FacetGrid(df, col='Survived')\ng.map(plt.hist, 'Fare', bins=10)"
        }, 
        {
            "execution_count": 472, 
            "cell_type": "code", 
            "outputs": [], 
            "metadata": {
                "collapsed": false, 
                "scrolled": true
            }, 
            "source": "fam_df = pd.DataFrame()\nfam_df[\"isAlone\"] = ~((df.SibSp + df.Parch)>0)\ndf[\"isAlone\"] = fam_df\ndf[\"FamilySize\"] = (df.SibSp + df.Parch +1)\nFamCat_1 = df['FamilySize']==1\nFamCat_4  = (df['FamilySize']<=4)\nFamCat_5 =  df['FamilySize']>4\ndf['FamilySize'] = FamCat_1*1 + FamCat_4*2 + FamCat_5*3\n\ndf = df.drop(['SibSp','Parch'], axis=1)\n\nfam_tf = pd.DataFrame()\nfam_tf[\"isAlone\"] = ~((tf.SibSp + tf.Parch)>0)\ntf[\"isAlone\"] = fam_tf\ntf[\"FamilySize\"] = (tf.SibSp + tf.Parch +1)\nFamCat_1 = tf['FamilySize']==1\nFamCat_4  = tf['FamilySize']<=4\nFamCat_5 =  tf['FamilySize']>4\ntf['FamilySize'] = FamCat_1*1 + FamCat_4*2 + FamCat_5*3\ntf = tf.drop(['SibSp','Parch'], axis=1)"
        }, 
        {
            "execution_count": 473, 
            "cell_type": "code", 
            "outputs": [], 
            "metadata": {
                "collapsed": false
            }, 
            "source": "df['Age'] = pd.qcut(df['Fare'], 5, labels=[0, 1, 2, 3, 4])\ndf['Fare'] = pd.qcut(df['Fare'], 4, labels=[0, 1, 2, 3])\n\ntf['Age'] = pd.qcut(tf['Fare'], 5, labels=[0, 1, 2, 3, 4])\ntf['Fare'] = pd.qcut(tf['Fare'], 4, labels=[0, 1, 2, 3])"
        }, 
        {
            "execution_count": 474, 
            "cell_type": "code", 
            "outputs": [
                {
                    "execution_count": 474, 
                    "data": {
                        "text/html": "<div>\n<table border=\"1\" class=\"dataframe\">\n  <thead>\n    <tr style=\"text-align: right;\">\n      <th></th>\n      <th>Pclass</th>\n      <th>Survived</th>\n    </tr>\n  </thead>\n  <tbody>\n    <tr>\n      <th>0</th>\n      <td>1</td>\n      <td>0.629630</td>\n    </tr>\n    <tr>\n      <th>1</th>\n      <td>2</td>\n      <td>0.472826</td>\n    </tr>\n    <tr>\n      <th>2</th>\n      <td>3</td>\n      <td>0.242363</td>\n    </tr>\n  </tbody>\n</table>\n</div>", 
                        "text/plain": "   Pclass  Survived\n0       1  0.629630\n1       2  0.472826\n2       3  0.242363"
                    }, 
                    "metadata": {}, 
                    "output_type": "execute_result"
                }
            ], 
            "metadata": {
                "collapsed": false
            }, 
            "source": "df[['Pclass', 'Survived']].groupby(['Pclass'], as_index=False).mean().sort_values(by='Survived', ascending=False)"
        }, 
        {
            "execution_count": 475, 
            "cell_type": "code", 
            "outputs": [], 
            "metadata": {
                "collapsed": false
            }, 
            "source": "#df\nemb = pd.get_dummies(df['Embarked'])\nemb.Q =emb.Q*2\nemb.S=emb.S*3\nemb_combine= pd.DataFrame()\nemb_combine['Embarked']  = emb.C+emb.Q+emb.S\ndf['Embarked'] =emb_combine\n\nsex = pd.get_dummies(df['Sex'])\nsex.female =sex.female*2\nsex_combine= pd.DataFrame()\nsex_combine['Sex']  = sex.female+sex.male\ndf['Sex'] =sex_combine\n\ntitle = []\nfor i in df.Name:\n    val = i[i.find(',')+2:i.find('.')]\n    if (val==\"Mr\"):\n        title.append(0)\n    elif ((val==\"Miss\") | (val==\"Mlle\")):\n        title.append(1)\n    elif ((val==\"Mme\")|(val==\"Ms\")|(val==\"Mrs\")):\n        title.append(2)\n    elif ((val=='Lady') | (val=='the Countess') |(val=='Capt')| (val=='Col')|(val=='Don')|(val=='Dr')|(val=='Major')|(val=='Rev')|(val=='Sir')|(val=='Jonkheer')|(val=='Dona')|(val=='Master')):\n        title.append(3)\n    else:\n        print(\"d\",val)\ntitle_series = pd.Series(title)\ndf['Title'] = title_series\n\n#tf\nemb = pd.get_dummies(tf['Embarked'])\nemb.Q =emb.Q*2\nemb.S=emb.S*3\nemb_combine= pd.DataFrame()\nemb_combine['Embarked']  = emb.C+emb.Q+emb.S\ntf['Embarked'] =emb_combine\n\nsex = pd.get_dummies(tf['Sex'])\nsex.female =sex.female*2\nsex_combine= pd.DataFrame()\nsex_combine['Sex']  = sex.female+sex.male\ntf['Sex'] =sex_combine\n\ntitle = []\nfor i in tf.Name:\n    val = i[i.find(',')+2:i.find('.')]\n    if (val==\"Mr\"):\n        title.append(0)\n    elif ((val==\"Miss\") | (val==\"Mlle\")):\n        title.append(1)\n    elif ((val==\"Mme\")|(val==\"Ms\")|(val==\"Mrs\")):\n        title.append(2)\n    elif ((val=='Lady') | (val=='the Countess') |(val=='Capt')| (val=='Col')|(val=='Don')|(val=='Dr')|(val=='Major')|(val=='Rev')|(val=='Sir')|(val=='Jonkheer')|(val=='Dona')|(val=='Master')):\n        title.append(3)\n    else:\n        print(val)\ntitle_series = pd.Series(title)\ntf['Title'] = title_series"
        }, 
        {
            "execution_count": 476, 
            "cell_type": "code", 
            "outputs": [
                {
                    "output_type": "stream", 
                    "name": "stdout", 
                    "text": "XXX        296\npc          32\nca          27\na           11\nsotonoq      9\nscparis      8\nwc           5\nsopp         4\nfcc          4\nstono        3\nc            3\nsca          2\naq           2\nscah         2\nfc           2\nsoc          2\npp           1\nsotono       1\nlp           1\nstonoq       1\nwep          1\nsc           1\ndtype: int64\n"
                }
            ], 
            "metadata": {
                "collapsed": false
            }, 
            "source": "clean_ticket = []\nticket_df = pd.Series(df.Ticket)\n\nfor i in ticket_df:\n    temp_str = \"\"\n    val = i.lower()\n    val = val.replace(\".\", \"\")\n    val = val.replace(\"/\", \"\")\n    for j in val:\n        if (j.isalpha()):\n            temp_str +=j\n        else:\n            break\n    if (len(temp_str)>0):\n        clean_ticket.append(temp_str)\n    else:\n        clean_ticket.append('XXX')\nticket_df = pd.Series(clean_ticket)\n\nequiv = {'XXX':0, 'pc':1, 'ca':2,'a':3,'stono':4,'sotonoq':5,'scparis':6,'wc':7,'soc':8,\n'c':9,'fcc':10,'line':11,'sopp':12,'wep':13,'pp':14,'scah':15,'sotono':16,'ppp':17,'swpp':18,\n'fc':19,'scow':20,'fa':21,'casoton':22,'as':23,'sop':24,'sca':25,'sp':26,'sc':27,'lp':28,'aq':29,'stonoq':30}\n\ndf.Ticket = ticket_df.map(equiv)\n\n\nclean_ticket = []\nticket_tf = pd.Series(tf.Ticket)\n\nfor i in ticket_tf:\n    temp_str = \"\"\n    val = i.lower()\n    val = val.replace(\".\", \"\")\n    val = val.replace(\"/\", \"\")\n    for j in val:\n        if (j.isalpha()):\n            temp_str +=j\n        else:\n            break\n    if (len(temp_str)>0):\n        clean_ticket.append(temp_str)\n    else:\n        clean_ticket.append('XXX')\nticket_tf = pd.Series(clean_ticket)\n\nprint (ticket_tf.value_counts())\ntf.Ticket = ticket_tf.map(equiv)"
        }, 
        {
            "execution_count": 477, 
            "cell_type": "code", 
            "outputs": [], 
            "metadata": {
                "collapsed": false
            }, 
            "source": "cabin_series = []\ncabin_df = pd.Series(df.Cabin)\nfor i in cabin_df:\n    if (str(i)!=\"nan\"):\n        cabin_series.append(i[0])\n    else:\n        cabin_series.append('XXX')\ncabin_series = pd.Series(cabin_series)\ncabin_series.value_counts()\n\nequiv = {'XXX':0, 'C':1, 'B':2,'D':3,'E':4,'A':5,'F':6,'G':7,'T':8}\n\ndf.Cabin = cabin_series.map(equiv)\n\n\ncabin_series = []\ncabin_tf = pd.Series(tf.Cabin)\nfor i in cabin_tf:\n    if (str(i)!=\"nan\"):\n        cabin_series.append(i[0])\n    else:\n        cabin_series.append('XXX')\ncabin_series = pd.Series(cabin_series)\ncabin_series.value_counts()\n\nequiv = {'XXX':0, 'C':1, 'B':2,'D':3,'E':4,'A':5,'F':6,'G':7,'T':8}\n\ntf.Cabin = cabin_series.map(equiv)"
        }, 
        {
            "execution_count": 478, 
            "cell_type": "code", 
            "outputs": [
                {
                    "execution_count": 478, 
                    "data": {
                        "text/plain": "87.43"
                    }, 
                    "metadata": {}, 
                    "output_type": "execute_result"
                }
            ], 
            "metadata": {
                "collapsed": false
            }, 
            "source": "features = ['Pclass', 'Sex', 'Age', 'isAlone', 'Fare', 'Embarked', 'FamilySize', 'Title','Ticket']\nX_train = df[features]\nY_train = df['Survived']\nX_test = tf[features]\n\nfrom sklearn.ensemble import RandomForestClassifier\n  \ncl = RandomForestClassifier(n_estimators=1000, max_depth=None, min_samples_split=2, random_state=0)\n\ncl.fit(X_train, Y_train)\nY_pred = cl.predict(X_test)\nacc_decision_tree = round(cl.score(X_train, Y_train) * 100, 2)\nacc_decision_tree"
        }, 
        {
            "execution_count": 479, 
            "cell_type": "code", 
            "outputs": [
                {
                    "execution_count": 479, 
                    "data": {
                        "text/html": "<div>\n<table border=\"1\" class=\"dataframe\">\n  <thead>\n    <tr style=\"text-align: right;\">\n      <th></th>\n      <th>Features</th>\n      <th>Correlation</th>\n    </tr>\n  </thead>\n  <tbody>\n    <tr>\n      <th>1</th>\n      <td>Sex</td>\n      <td>2.127273</td>\n    </tr>\n    <tr>\n      <th>3</th>\n      <td>isAlone</td>\n      <td>1.733699</td>\n    </tr>\n    <tr>\n      <th>7</th>\n      <td>Title</td>\n      <td>0.584855</td>\n    </tr>\n    <tr>\n      <th>2</th>\n      <td>Age</td>\n      <td>0.121924</td>\n    </tr>\n    <tr>\n      <th>4</th>\n      <td>Fare</td>\n      <td>0.077015</td>\n    </tr>\n    <tr>\n      <th>8</th>\n      <td>Ticket</td>\n      <td>-0.005117</td>\n    </tr>\n    <tr>\n      <th>5</th>\n      <td>Embarked</td>\n      <td>-0.221032</td>\n    </tr>\n    <tr>\n      <th>0</th>\n      <td>Pclass</td>\n      <td>-0.608682</td>\n    </tr>\n    <tr>\n      <th>6</th>\n      <td>FamilySize</td>\n      <td>-1.574918</td>\n    </tr>\n  </tbody>\n</table>\n</div>", 
                        "text/plain": "     Features  Correlation\n1         Sex     2.127273\n3     isAlone     1.733699\n7       Title     0.584855\n2         Age     0.121924\n4        Fare     0.077015\n8      Ticket    -0.005117\n5    Embarked    -0.221032\n0      Pclass    -0.608682\n6  FamilySize    -1.574918"
                    }, 
                    "metadata": {}, 
                    "output_type": "execute_result"
                }
            ], 
            "metadata": {
                "collapsed": false
            }, 
            "source": "# Logistic Regression\n\nlogreg = LogisticRegression()\nlogreg.fit(X_train, Y_train)\n#Y_pred = logreg.predict(X_test)\nacc_log = round(logreg.score(X_train, Y_train) * 100, 2)\nacc_log\n\ncoeff_df = pd.DataFrame()\ncoeff_df[\"Features\"] = pd.Series(features)\ncoeff_df[\"Correlation\"] = pd.Series(logreg.coef_[0])\n\ncoeff_df.sort_values(by='Correlation', ascending=False)"
        }, 
        {
            "execution_count": 480, 
            "cell_type": "code", 
            "outputs": [], 
            "metadata": {
                "collapsed": false
            }, 
            "source": "from sklearn.svm import SVC, LinearSVC\nlogreg = SVC()\nlogreg.fit(X_train, Y_train)\nY_pred = logreg.predict(X_test)\nacc_log = round(logreg.score(X_train, Y_train) * 100, 2)\nacc_log\n\ncoeff_df = pd.DataFrame()\ncoeff_df[\"Features\"] = pd.Series(features)\n#coeff_df[\"Correlation\"] = pd.Series(logreg.)\n\n#coeff_df.sort_values(by='Correlation', ascending=False)"
        }, 
        {
            "execution_count": 481, 
            "cell_type": "code", 
            "outputs": [], 
            "metadata": {
                "collapsed": false
            }, 
            "source": "submission = pd.DataFrame({\n        \"PassengerId\": tf[\"PassengerId\"],\n        \"Survived\": Y_pred\n    })\nsubmission.to_csv('submission.csv', index=False)"
        }, 
        {
            "execution_count": 482, 
            "cell_type": "code", 
            "outputs": [
                {
                    "output_type": "stream", 
                    "name": "stdout", 
                    "text": "<Response [201]>\n"
                }
            ], 
            "metadata": {
                "collapsed": false
            }, 
            "source": "# The code was removed by DSX for sharing."
        }, 
        {
            "execution_count": 483, 
            "cell_type": "code", 
            "outputs": [], 
            "metadata": {
                "collapsed": false
            }, 
            "source": "b = df.Fare.isnull()\nfor i in range(b.size):\n    if (b[i]==True):\n        print (i)"
        }, 
        {
            "execution_count": 484, 
            "cell_type": "code", 
            "outputs": [
                {
                    "execution_count": 484, 
                    "data": {
                        "text/plain": "Pclass        0\nSex           0\nAge           0\nisAlone       0\nFare          0\nEmbarked      0\nFamilySize    0\nTitle         0\nTicket        0\ndtype: int64"
                    }, 
                    "metadata": {}, 
                    "output_type": "execute_result"
                }
            ], 
            "metadata": {
                "collapsed": false
            }, 
            "source": "X_test.isnull().sum()"
        }, 
        {
            "execution_count": 485, 
            "cell_type": "code", 
            "outputs": [
                {
                    "execution_count": 485, 
                    "data": {
                        "text/plain": "Mr              517\nMiss            182\nMrs             125\nMaster           40\nDr                7\nRev               6\nMlle              2\nCol               2\nMajor             2\nLady              1\nJonkheer          1\nDon               1\nMs                1\nMme               1\nCapt              1\nthe Countess      1\nSir               1\ndtype: int64"
                    }, 
                    "metadata": {}, 
                    "output_type": "execute_result"
                }
            ], 
            "metadata": {
                "collapsed": false
            }, 
            "source": "title = []\nfor i in df.Name:\n    title.append(i[i.find(',')+2:i.find('.')])\ntitle_series = pd.Series(title)\ntitle_series.value_counts()"
        }, 
        {
            "execution_count": 486, 
            "cell_type": "code", 
            "outputs": [], 
            "metadata": {
                "collapsed": false
            }, 
            "source": "a = X_test.Title.isnull()\nfor i in range(a.size):\n    if (a[i]==True):\n        print (i)"
        }, 
        {
            "execution_count": 487, 
            "cell_type": "code", 
            "outputs": [
                {
                    "execution_count": 487, 
                    "data": {
                        "text/plain": "Survived      1.000000\nPclass       -0.338481\nSex           0.543351\nTicket       -0.044562\nCabin         0.007692\nEmbarked     -0.167675\nisAlone      -0.203367\nFamilySize   -0.279855\nTitle         0.441635\nName: Survived, dtype: float64"
                    }, 
                    "metadata": {}, 
                    "output_type": "execute_result"
                }
            ], 
            "metadata": {
                "collapsed": false
            }, 
            "source": "df.corr()[\"Survived\"]"
        }, 
        {
            "execution_count": 489, 
            "cell_type": "code", 
            "outputs": [
                {
                    "execution_count": 489, 
                    "data": {
                        "text/plain": "XXX    327\n6       17\n1       14\n4       10\n0        9\n7        8\n8        7\n9        7\n5        7\n2        6\n3        4\nF        1\nD        1\ndtype: int64"
                    }, 
                    "metadata": {}, 
                    "output_type": "execute_result"
                }
            ], 
            "metadata": {
                "collapsed": false
            }, 
            "source": "cabin_series.value_counts()"
        }, 
        {
            "execution_count": null, 
            "cell_type": "code", 
            "outputs": [], 
            "metadata": {
                "collapsed": false
            }, 
            "source": ""
        }, 
        {
            "execution_count": null, 
            "cell_type": "code", 
            "outputs": [], 
            "metadata": {
                "collapsed": false
            }, 
            "source": ""
        }, 
        {
            "execution_count": null, 
            "cell_type": "code", 
            "outputs": [], 
            "metadata": {
                "collapsed": true
            }, 
            "source": ""
        }
    ], 
    "nbformat": 4, 
    "nbformat_minor": 0
}